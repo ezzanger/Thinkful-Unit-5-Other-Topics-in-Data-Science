{
 "cells": [
  {
   "cell_type": "code",
   "execution_count": 1,
   "metadata": {},
   "outputs": [
    {
     "name": "stdout",
     "output_type": "stream",
     "text": [
      "Success!\n"
     ]
    }
   ],
   "source": [
    "import scrapy\n",
    "from scrapy.crawler import CrawlerProcess\n",
    "\n",
    "\n",
    "class ESSpider(scrapy.Spider):\n",
    "    # Naming the spider is important if you are running more than one spider of\n",
    "    # this class simultaneously.\n",
    "    name = \"ESS\"\n",
    "    \n",
    "    # URL(s) to start with.\n",
    "    start_urls = [\n",
    "        'http://www.everywhereist.com/blog/',\n",
    "    ]\n",
    "\n",
    "    # Use XPath to parse the response we get.\n",
    "    def parse(self, response):\n",
    "        \n",
    "        # Iterate over every <article> element on the page.\n",
    "        for article in response.xpath('//article'):\n",
    "            \n",
    "            # Yield a dictionary with the values we want.\n",
    "            yield {\n",
    "                # This is the code to choose what we want to extract\n",
    "                # You can modify this with other Xpath expressions to extract other information from the site\n",
    "                'name': article.xpath('string(header/h2/a)').extract(), #works\n",
    "                'date': article.xpath('string(header/div[@class=\"date\"]/div[@class=\"actual-date\"])').extract(),\n",
    "                'text': article.xpath('div[@class=\"body\"]/p/text()').extract(), #works\n",
    "                #'tags': article.xpath('*/span[@class=\"tag-links\"]/a/text()').extract()\n",
    "            }\n",
    "\n",
    "# Tell the script how to run the crawler by passing in settings.\n",
    "process = CrawlerProcess({\n",
    "    'FEED_FORMAT': 'json',         # Store data in JSON format.\n",
    "    'FEED_URI': 'secondpage.json',  # Name our storage file.\n",
    "    'LOG_ENABLED': False           # Turn off logging for now.\n",
    "})\n",
    "\n",
    "# Start the crawler with our spider.\n",
    "process.crawl(ESSpider)\n",
    "process.start()\n",
    "print('Success!')"
   ]
  },
  {
   "cell_type": "code",
   "execution_count": 2,
   "metadata": {},
   "outputs": [
    {
     "name": "stdout",
     "output_type": "stream",
     "text": [
      "(9, 3)\n",
      "             date                                               name  \\\n",
      "0   [Sep 4, 2018]                      [I Quit Twitter for a Month.]   \n",
      "1  [Jul 30, 2018]  [What Happened When I Tried Talking to Twitter...   \n",
      "2  [Jul 19, 2018]                                [Lost And Founder.]   \n",
      "3  [Jun 22, 2018]                          [Scenes From a Bookstore]   \n",
      "4  [Jun 21, 2018]                   [782 Words About Writer’s Block]   \n",
      "\n",
      "                                                text  \n",
      "0  [I quit Twitter for a month. This should not s...  \n",
      "1  [Trigger warning: please note that this is a b...  \n",
      "2  [My beloved wrote a book. How it came to be wa...  \n",
      "3  [“Why do they have so many copies of  my book?...  \n",
      "4  [I don’t know what writer’s block looks like f...  \n"
     ]
    }
   ],
   "source": [
    "import pandas as pd\n",
    "\n",
    "secondpage = pd.read_json('secondpage.json', orient='records')\n",
    "print(secondpage.shape)\n",
    "print(secondpage.head())"
   ]
  },
  {
   "cell_type": "code",
   "execution_count": 3,
   "metadata": {},
   "outputs": [
    {
     "data": {
      "text/plain": [
       "['I Quit Twitter for a Month.']"
      ]
     },
     "execution_count": 3,
     "metadata": {},
     "output_type": "execute_result"
    }
   ],
   "source": [
    "secondpage.loc[0,'name']"
   ]
  },
  {
   "cell_type": "code",
   "execution_count": null,
   "metadata": {},
   "outputs": [],
   "source": []
  }
 ],
 "metadata": {
  "kernelspec": {
   "display_name": "Python 3",
   "language": "python",
   "name": "python3"
  },
  "language_info": {
   "codemirror_mode": {
    "name": "ipython",
    "version": 3
   },
   "file_extension": ".py",
   "mimetype": "text/x-python",
   "name": "python",
   "nbconvert_exporter": "python",
   "pygments_lexer": "ipython3",
   "version": "3.6.5"
  }
 },
 "nbformat": 4,
 "nbformat_minor": 2
}
