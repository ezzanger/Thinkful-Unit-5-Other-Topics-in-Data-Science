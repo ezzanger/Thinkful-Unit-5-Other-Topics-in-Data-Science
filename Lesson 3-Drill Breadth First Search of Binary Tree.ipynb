{
 "cells": [
  {
   "cell_type": "markdown",
   "metadata": {},
   "source": [
    "# Breadth First Traversal of Binary Tree #\n",
    "## by Lorenz Madarang ##\n",
    "## Code from https://www.geeksforgeeks.org/level-order-tree-traversal/ ##"
   ]
  },
  {
   "cell_type": "code",
   "execution_count": 3,
   "metadata": {},
   "outputs": [],
   "source": [
    "# Code to Create Binary Tree\n",
    "\n",
    "class Node:\n",
    "    def __init__(self, val):\n",
    "        self.left = None\n",
    "        self.right = None\n",
    "        self.val = val\n"
   ]
  },
  {
   "cell_type": "code",
   "execution_count": 6,
   "metadata": {},
   "outputs": [],
   "source": [
    "import random"
   ]
  },
  {
   "cell_type": "code",
   "execution_count": 10,
   "metadata": {},
   "outputs": [],
   "source": [
    "# Create 15 Node Tree\n",
    "\n",
    "root = Node(random.sample(range(10),1))\n",
    "root.left = Node(random.sample(range(10),1))\n",
    "root.right = Node(random.sample(range(10),1))\n",
    "\n",
    "root.left.left = Node(random.sample(range(10),1))\n",
    "root.left.right = Node(random.sample(range(10),1))\n",
    "root.right.left = Node(random.sample(range(10),1))\n",
    "root.right.right = Node(random.sample(range(10),1))\n",
    "root.left.left.left = Node(random.sample(range(10),1))\n",
    "root.left.left.right = Node(random.sample(range(10),1))\n",
    "root.left.right.left = Node(random.sample(range(10),1))\n",
    "root.left.right.right = Node(random.sample(range(10),1))\n",
    "root.right.left.left = Node(random.sample(range(10),1))\n",
    "root.right.left.right = Node(random.sample(range(10),1))\n",
    "root.right.right.left = Node(random.sample(range(10),1))\n",
    "root.right.right.right = Node(random.sample(range(10),1))\n"
   ]
  },
  {
   "cell_type": "code",
   "execution_count": 16,
   "metadata": {},
   "outputs": [],
   "source": [
    "# Function to  print level order traversal of tree\n",
    "def printLevelOrder(root):\n",
    "    h = height(root)\n",
    "    for i in range(1, h+1):\n",
    "        printGivenLevel(root, i)\n",
    " \n",
    " \n",
    "# Print nodes at a given level\n",
    "def printGivenLevel(root , level):\n",
    "    if root is None:\n",
    "        return\n",
    "    if level == 1:\n",
    "        print(\"{}\".format(root.val)),\n",
    "    elif level > 1 :\n",
    "        printGivenLevel(root.left , level-1)\n",
    "        printGivenLevel(root.right , level-1)\n",
    "        \n",
    "def height(node):\n",
    "    if node is None:\n",
    "        return 0\n",
    "    else :\n",
    "        # Compute the height of each subtree \n",
    "        lheight = height(node.left)\n",
    "        rheight = height(node.right)\n",
    " \n",
    "        #Use the larger one\n",
    "        if lheight > rheight :\n",
    "            return lheight+1\n",
    "        else:\n",
    "            return rheight+1\n",
    "        "
   ]
  },
  {
   "cell_type": "code",
   "execution_count": 17,
   "metadata": {},
   "outputs": [
    {
     "name": "stdout",
     "output_type": "stream",
     "text": [
      "Level order traversal of binary tree is -\n",
      "[3]\n",
      "[8]\n",
      "[7]\n",
      "[3]\n",
      "[4]\n",
      "[0]\n",
      "[0]\n",
      "[9]\n",
      "[9]\n",
      "[5]\n",
      "[1]\n",
      "[5]\n",
      "[5]\n",
      "[6]\n",
      "[8]\n"
     ]
    }
   ],
   "source": [
    "# Breadth First Traversal of the 15 Node Tree\n",
    "\n",
    "print (\"Level order traversal of binary tree is -\")\n",
    "printLevelOrder(root)"
   ]
  },
  {
   "cell_type": "code",
   "execution_count": null,
   "metadata": {},
   "outputs": [],
   "source": []
  }
 ],
 "metadata": {
  "kernelspec": {
   "display_name": "Python 3",
   "language": "python",
   "name": "python3"
  },
  "language_info": {
   "codemirror_mode": {
    "name": "ipython",
    "version": 3
   },
   "file_extension": ".py",
   "mimetype": "text/x-python",
   "name": "python",
   "nbconvert_exporter": "python",
   "pygments_lexer": "ipython3",
   "version": "3.6.5"
  }
 },
 "nbformat": 4,
 "nbformat_minor": 2
}
